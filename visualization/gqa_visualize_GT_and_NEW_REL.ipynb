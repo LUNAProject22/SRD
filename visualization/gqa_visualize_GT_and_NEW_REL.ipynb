{
 "cells": [
  {
   "cell_type": "code",
   "execution_count": null,
   "metadata": {},
   "outputs": [],
   "source": [
    "import os\n",
    "import torch\n",
    "import json\n",
    "import numpy as np\n",
    "from matplotlib.pyplot import imshow\n",
    "from PIL import Image, ImageDraw\n",
    "import pickle"
   ]
  },
  {
   "cell_type": "code",
   "execution_count": null,
   "metadata": {},
   "outputs": [],
   "source": [
    "root = \"/home/username/source/SRD/\"\n",
    "sup_file = root + \"datasets/gqa/gqa_sup_data.pk\"\n",
    "new_rel_file_1 = root + \"output/GQA/relabel-transformer/N50/relation_cache_transformer_pretrain_idf_N50_CD-F15-o1.npy\"\n",
    "new_rel_file_2 = root + \"output/GQA/relabel-transformer/N100/relation_cache_transformer_pretrain_idf_N100_CD.npy\"\n",
    "info_file = root + \"datasets/gqa/GQA_200_ID_Info.json\"\n",
    "\n",
    "out_dir = root + \"output/vis_gqa/\"\n",
    "if not os.path.exists(out_dir):\n",
    "    os.makedirs(out_dir)\n",
    "info = json.load(open(info_file, 'r'))\n",
    "from maskrcnn_benchmark.data.datasets.gqa import load_info\n",
    "ind_to_classes, ind_to_predicates = load_info(info_file)\n",
    "\n",
    "sup_data = pickle.load(open(sup_file, \"rb\"))\n",
    "new_rel_data_n50 = np.load(new_rel_file_1, allow_pickle=True)[()]\n",
    "new_rel_data_n100 = np.load(new_rel_file_2, allow_pickle=True)[()]"
   ]
  },
  {
   "cell_type": "code",
   "execution_count": null,
   "metadata": {},
   "outputs": [],
   "source": [
    "from collections import Counter\n",
    "\n",
    "gt_rel_1 = []\n",
    "for i in range(len(sup_data)):\n",
    "    gt_rels = sup_data[i][\"triples\"]\n",
    "    if gt_rels is not None and len(gt_rels) != 0:\n",
    "        gt_rel_1.extend(gt_rels[:, 2])\n",
    "\n",
    "print(len(gt_rel_1))\n",
    "\n",
    "count_gt = Counter(gt_rel_1)\n",
    "\n",
    "# print(count_gt)\n",
    "\n",
    "# for k, v in count_gt.items():\n",
    "#     print(f\"{k}-{ind_to_predicates[k]}: {v}\")\n",
    "\n",
    "for i in range(1, len(ind_to_predicates)):\n",
    "    print(f\"{count_gt[ind_to_predicates[i]]}\")"
   ]
  },
  {
   "cell_type": "code",
   "execution_count": null,
   "metadata": {},
   "outputs": [],
   "source": [
    "# statistics\n",
    "from collections import Counter\n",
    "\n",
    "\n",
    "new_rel_n100 = []\n",
    "new_rel_n50 = []\n",
    "for i in range(len(new_rel_data_n100)):\n",
    "    if new_rel_data_n100[i] is not None:\n",
    "        new_rel_n100.extend(new_rel_data_n100[i][:, 2])\n",
    "for i in range(len(new_rel_data_n50)):\n",
    "    if new_rel_data_n50[i] is not None:\n",
    "        new_rel_n50.extend(new_rel_data_n50[i][:, 2])\n",
    "print(len(new_rel_n100), len(new_rel_n50))\n",
    "\n",
    "n100_count = Counter(new_rel_n100)\n",
    "n50_count = Counter(new_rel_n50)\n",
    "\n",
    "# print(n50_count)\n",
    "\n",
    "# for k, v in n50_count.items():\n",
    "#     print(f\"{k}-{ind_to_predicates[k]}: {v}\")\n",
    "\n",
    "\n",
    "for i in range(1, len(ind_to_predicates)):\n",
    "    print(f\"{n50_count[ind_to_predicates[i]]}\")"
   ]
  },
  {
   "cell_type": "code",
   "execution_count": null,
   "metadata": {},
   "outputs": [],
   "source": [
    "freq_rels = np.arange(len(ind_to_predicates))\n",
    "for r in freq_rels:\n",
    "    print(ind_to_predicates[r])"
   ]
  },
  {
   "cell_type": "code",
   "execution_count": null,
   "metadata": {},
   "outputs": [],
   "source": [
    "# get image info by index\n",
    "def get_info_by_idx(idx, new_rel_data):\n",
    "    sup_data_dict = sup_data[idx]\n",
    "    new_rel = new_rel_data[idx]\n",
    "    # if new_rel is not None:\n",
    "    #     print(idx, sup_data_dict[\"image_id\"])\n",
    "    image_id = sup_data_dict[\"image_id\"]\n",
    "    img_path = sup_data_dict[\"img_path\"]\n",
    "    box = sup_data_dict[\"boxes\"]\n",
    "    labels = sup_data_dict[\"labels\"]\n",
    "    names = [ind_to_classes[ii] for ii in labels]\n",
    "    gt_rels = sup_data_dict[\"triples\"]\n",
    "    relation = [[str(triple[0])+\"-\"+names[triple[0]], ind_to_predicates[triple[2]], str(triple[1])+\"-\"+names[triple[1]]] for triple in gt_rels]\n",
    "    if new_rel is not None:\n",
    "        new_rels = [[str(triple[0])+\"-\"+names[triple[0]], ind_to_predicates[triple[2]], str(triple[1])+\"-\"+names[triple[1]]] for triple in new_rel]\n",
    "    else:\n",
    "        new_rels = []\n",
    "\n",
    "    w, h = sup_data_dict['width'], sup_data_dict['height']\n",
    "\n",
    "    boxes = torch.from_numpy(box).reshape(-1, 4)\n",
    "    return img_path, boxes, names, relation, new_rels, image_id"
   ]
  },
  {
   "cell_type": "code",
   "execution_count": null,
   "metadata": {},
   "outputs": [],
   "source": [
    "def draw_single_box(pic, box, color='red', draw_info=None):\n",
    "    draw = ImageDraw.Draw(pic)\n",
    "    x1,y1,x2,y2 = int(box[0]), int(box[1]), int(box[2]), int(box[3])\n",
    "    draw.rectangle(((x1, y1), (x2, y2)), outline=color)\n",
    "    if draw_info:\n",
    "        draw.rectangle(((x1, y1), (x1+50, y1+10)), fill=color)\n",
    "        info = draw_info\n",
    "        draw.text((x1, y1), info)\n",
    "\n",
    "def print_list(name, input_list):\n",
    "    for i, item in enumerate(input_list):\n",
    "        print(name + ' ' + str(i) + ': ' + str(item))\n",
    "    \n",
    "def draw_image(img_path, boxes, labels, gt_rels, pred_rels, image_id, print_img=True):\n",
    "    img_path = root + img_path\n",
    "    pic = Image.open(img_path)\n",
    "    num_obj = boxes.shape[0]\n",
    "    for i in range(num_obj):\n",
    "        info = str(i) + \"-\" + labels[i]\n",
    "        draw_single_box(pic, boxes[i], draw_info=info)\n",
    "    if print_img:\n",
    "        display(pic)\n",
    "    if print_img:\n",
    "        # print('*' * 50)\n",
    "        # print_list('gt_boxes', labels)\n",
    "        print('*' * 50)\n",
    "        print_list('gt_rels', gt_rels)\n",
    "        print('*' * 50)\n",
    "    print_list('new_rels', pred_rels[:20])\n",
    "    print('*' * 50)\n",
    "    # pic.save(os.path.join(out_dir, str(image_id)+'.png'))\n",
    "    return None"
   ]
  },
  {
   "cell_type": "code",
   "execution_count": null,
   "metadata": {},
   "outputs": [],
   "source": [
    "def show_selected(idx_list):\n",
    "    for select_idx in idx_list:\n",
    "        # print(select_idx)\n",
    "        draw_image(*get_info_by_idx(select_idx, new_rel_data_n100))\n",
    "        \n",
    "def show_all(start_idx, length):\n",
    "    for cand_idx in range(start_idx, start_idx+length):\n",
    "        print(cand_idx)\n",
    "        draw_image(*get_info_by_idx(cand_idx, new_rel_data_n100))\n",
    "        print('*' * 50)\n",
    "        print(\"N50\")\n",
    "        draw_image(*get_info_by_idx(cand_idx, new_rel_data_n50), print_img=False)"
   ]
  },
  {
   "cell_type": "code",
   "execution_count": null,
   "metadata": {},
   "outputs": [],
   "source": [
    "show_all(start_idx=0, length=10)\n",
    "# show_selected([0, 50, 400])\n",
    "# good example: 50,301,400,\n",
    "# issue example: 255"
   ]
  },
  {
   "cell_type": "code",
   "execution_count": null,
   "metadata": {},
   "outputs": [],
   "source": [
    "# vis non-empty new relations\n",
    "for ii in range(10, 20):\n",
    "    if new_rel_data_n100[ii] is not None and new_rel_data_n50[ii] is not None:\n",
    "        # print(new_rel_data_n100[ii].shape[0], new_rel_data_n50[ii].shape[0])\n",
    "        if new_rel_data_n100[ii].shape[0] > new_rel_data_n50[ii].shape[0]:\n",
    "            print(ii)\n",
    "            draw_image(*get_info_by_idx(ii, new_rel_data_n100))\n",
    "            print('*' * 50)\n",
    "            print(\"N50\")\n",
    "            draw_image(*get_info_by_idx(ii, new_rel_data_n50), print_img=False)"
   ]
  }
 ],
 "metadata": {
  "kernelspec": {
   "display_name": "Python 3",
   "language": "python",
   "name": "python3"
  },
  "language_info": {
   "codemirror_mode": {
    "name": "ipython",
    "version": 3
   },
   "file_extension": ".py",
   "mimetype": "text/x-python",
   "name": "python",
   "nbconvert_exporter": "python",
   "pygments_lexer": "ipython3",
   "version": "3.8.16"
  }
 },
 "nbformat": 4,
 "nbformat_minor": 2
}
